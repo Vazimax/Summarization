{
 "cells": [
  {
   "cell_type": "code",
   "execution_count": 52,
   "id": "7eb5de60",
   "metadata": {},
   "outputs": [],
   "source": [
    "import spacy"
   ]
  },
  {
   "cell_type": "code",
   "execution_count": 53,
   "id": "3e2a00af",
   "metadata": {},
   "outputs": [],
   "source": [
    "from spacy.lang.en.stop_words import STOP_WORDS\n",
    "from string import punctuation"
   ]
  },
  {
   "cell_type": "code",
   "execution_count": 54,
   "id": "e42586ef",
   "metadata": {},
   "outputs": [],
   "source": [
    "stopwords = list(STOP_WORDS)"
   ]
  },
  {
   "cell_type": "code",
   "execution_count": 55,
   "id": "468ce91c",
   "metadata": {},
   "outputs": [],
   "source": [
    "nlp = spacy.load('en_core_web_sm')"
   ]
  },
  {
   "cell_type": "code",
   "execution_count": 56,
   "id": "66798011",
   "metadata": {},
   "outputs": [],
   "source": [
    "text = \"\"\"\n",
    "Quantum computing is a revolutionary technology that leverages the principles of quantum mechanics to process information in fundamentally new ways. Unlike classical computers, which use bits as the smallest unit of data, quantum computers use quantum bits, or qubits. Qubits can exist in multiple states simultaneously thanks to superposition, a key quantum property. This enables quantum computers to perform many calculations at once, vastly increasing their processing power.\n",
    "Another critical aspect of quantum computing is entanglement, a phenomenon where qubits become interconnected such that the state of one qubit instantly influences the state of another, regardless of the distance separating them. This interconnectedness allows quantum computers to solve complex problems more efficiently than classical computers can. For instance, tasks like factoring large numbers, simulating molecular structures for drug discovery, and optimizing large systems could see dramatic improvements.\n",
    "\"\"\""
   ]
  },
  {
   "cell_type": "code",
   "execution_count": 57,
   "id": "bde920ba",
   "metadata": {},
   "outputs": [],
   "source": [
    "punc = punctuation + '\\n'"
   ]
  },
  {
   "cell_type": "code",
   "execution_count": 58,
   "id": "6567947e",
   "metadata": {},
   "outputs": [],
   "source": [
    "word_frequencies = {}\n",
    "for word in doc:\n",
    "    if word.text.lower() not in stopwords and word.text.lower() not in punc:\n",
    "        if word.text not in word_frequencies.keys():\n",
    "            word_frequencies[word.text] = 1\n",
    "        else:\n",
    "            word_frequencies[word.text] += 1"
   ]
  },
  {
   "cell_type": "code",
   "execution_count": 59,
   "id": "ea335e2c",
   "metadata": {},
   "outputs": [],
   "source": [
    "max_freq = max(word_frequencies.values())"
   ]
  },
  {
   "cell_type": "code",
   "execution_count": 60,
   "id": "311e8624",
   "metadata": {},
   "outputs": [],
   "source": [
    "for word in word_frequencies.keys():\n",
    "    word_frequencies[word] /= max_freq"
   ]
  },
  {
   "cell_type": "code",
   "execution_count": 61,
   "id": "1073ff02",
   "metadata": {},
   "outputs": [],
   "source": [
    "sent_token = [sent for sent in doc.sents]"
   ]
  },
  {
   "cell_type": "code",
   "execution_count": 62,
   "id": "74a3a32d",
   "metadata": {},
   "outputs": [],
   "source": [
    "sent_score = {}\n",
    "for sent in sent_token:\n",
    "    for word in sent:\n",
    "        if word.text.lower() in word_frequencies.keys():\n",
    "            if sent not in sent_score.keys():\n",
    "                sent_score[sent] = word_frequencies[word.text.lower()]\n",
    "            else:\n",
    "                sent_score[sent] += word_frequencies[word.text.lower()]"
   ]
  },
  {
   "cell_type": "code",
   "execution_count": 63,
   "id": "e26701c4",
   "metadata": {},
   "outputs": [
    {
     "data": {
      "text/plain": [
       "{\n",
       " Quantum computing is a revolutionary technology that leverages the principles of quantum mechanics to process information in fundamentally new ways.: 3.7142857142857135,\n",
       " Unlike classical computers, which use bits as the smallest unit of data, quantum computers use quantum bits, or qubits.: 5.571428571428571,\n",
       " Qubits can exist in multiple states simultaneously thanks to superposition, a key quantum property.: 2.4285714285714284,\n",
       " This enables quantum computers to perform many calculations at once, vastly increasing their processing power.\n",
       " : 2.8571428571428568,\n",
       " Another critical aspect of quantum computing is entanglement, a phenomenon where qubits become interconnected such that the state of one qubit instantly influences the state of another, regardless of the distance separating them.: 3.714285714285713,\n",
       " This interconnectedness allows quantum computers to solve complex problems more efficiently than classical computers can.: 3.571428571428571,\n",
       " For instance, tasks like factoring large numbers, simulating molecular structures for drug discovery, and optimizing large systems could see dramatic improvements.: 2.5714285714285707}"
      ]
     },
     "execution_count": 63,
     "metadata": {},
     "output_type": "execute_result"
    }
   ],
   "source": [
    "sent_score"
   ]
  },
  {
   "cell_type": "code",
   "execution_count": 64,
   "id": "529d1c72",
   "metadata": {},
   "outputs": [],
   "source": [
    "from heapq import nlargest"
   ]
  },
  {
   "cell_type": "code",
   "execution_count": 65,
   "id": "1cace32e",
   "metadata": {},
   "outputs": [],
   "source": [
    "select_len = int(len(sent_token)*0.3)"
   ]
  },
  {
   "cell_type": "code",
   "execution_count": 66,
   "id": "da8fcd26",
   "metadata": {},
   "outputs": [],
   "source": [
    "summary = nlargest(select_len, sent_score, key=sent_score.get)"
   ]
  },
  {
   "cell_type": "code",
   "execution_count": 67,
   "id": "461cee16",
   "metadata": {},
   "outputs": [],
   "source": [
    "res = ' '.join([word.text for word in summary])"
   ]
  },
  {
   "cell_type": "code",
   "execution_count": 68,
   "id": "9e52ec0a",
   "metadata": {},
   "outputs": [
    {
     "data": {
      "text/plain": [
       "'Unlike classical computers, which use bits as the smallest unit of data, quantum computers use quantum bits, or qubits. \\nQuantum computing is a revolutionary technology that leverages the principles of quantum mechanics to process information in fundamentally new ways.'"
      ]
     },
     "execution_count": 68,
     "metadata": {},
     "output_type": "execute_result"
    }
   ],
   "source": [
    "res"
   ]
  },
  {
   "cell_type": "code",
   "execution_count": null,
   "id": "eca9dd6c",
   "metadata": {},
   "outputs": [],
   "source": []
  }
 ],
 "metadata": {
  "kernelspec": {
   "display_name": "Python 3 (ipykernel)",
   "language": "python",
   "name": "python3"
  },
  "language_info": {
   "codemirror_mode": {
    "name": "ipython",
    "version": 3
   },
   "file_extension": ".py",
   "mimetype": "text/x-python",
   "name": "python",
   "nbconvert_exporter": "python",
   "pygments_lexer": "ipython3",
   "version": "3.11.7"
  }
 },
 "nbformat": 4,
 "nbformat_minor": 5
}
